{
 "cells": [
  {
   "cell_type": "code",
   "execution_count": 1,
   "metadata": {},
   "outputs": [],
   "source": [
    "import pandas as pd\n",
    "from math import sqrt\n",
    "import glob\n",
    "from pathlib import Path\n",
    "import pandas_profiling\n",
    "from matplotlib import pyplot\n",
    "import seaborn as sns\n",
    "from pandas.plotting import autocorrelation_plot\n",
    "from datetime import datetime\n",
    "from sklearn.model_selection import TimeSeriesSplit\n",
    "from sklearn.metrics import mean_squared_error\n",
    "from math import sqrt"
   ]
  },
  {
   "cell_type": "code",
   "execution_count": 2,
   "metadata": {},
   "outputs": [],
   "source": [
    "pd.set_option('display.max_rows', 1000)"
   ]
  },
  {
   "cell_type": "code",
   "execution_count": 3,
   "metadata": {},
   "outputs": [],
   "source": [
    "df = pd.read_csv('processed_dataset.csv')"
   ]
  },
  {
   "cell_type": "code",
   "execution_count": 4,
   "metadata": {},
   "outputs": [],
   "source": [
    "df['measure_date'] = pd.to_datetime(pd.to_datetime(df['measure_date']).dt.date)\n",
    "df['departure_date'] = pd.to_datetime(pd.to_datetime(df['departure_date']).dt.date)\n",
    "df['arrival_date'] = pd.to_datetime(pd.to_datetime(df['arrival_date']).dt.date)"
   ]
  },
  {
   "cell_type": "code",
   "execution_count": 5,
   "metadata": {},
   "outputs": [
    {
     "data": {
      "text/html": [
       "<div>\n",
       "<style scoped>\n",
       "    .dataframe tbody tr th:only-of-type {\n",
       "        vertical-align: middle;\n",
       "    }\n",
       "\n",
       "    .dataframe tbody tr th {\n",
       "        vertical-align: top;\n",
       "    }\n",
       "\n",
       "    .dataframe thead th {\n",
       "        text-align: right;\n",
       "    }\n",
       "</style>\n",
       "<table border=\"1\" class=\"dataframe\">\n",
       "  <thead>\n",
       "    <tr style=\"text-align: right;\">\n",
       "      <th></th>\n",
       "      <th>departure_city</th>\n",
       "      <th>arrival_city</th>\n",
       "      <th>flight_duration</th>\n",
       "      <th>carrier_name</th>\n",
       "      <th>agent_name</th>\n",
       "      <th>flight_number</th>\n",
       "      <th>price</th>\n",
       "      <th>measure_date</th>\n",
       "      <th>departure_date</th>\n",
       "      <th>departure_hour</th>\n",
       "      <th>departure_minute</th>\n",
       "      <th>arrival_date</th>\n",
       "      <th>arrival_hour</th>\n",
       "      <th>arrival_minute</th>\n",
       "      <th>days_left_to_departure</th>\n",
       "      <th>previous_price_for_trip</th>\n",
       "    </tr>\n",
       "  </thead>\n",
       "  <tbody>\n",
       "    <tr>\n",
       "      <th>0</th>\n",
       "      <td>moscow</td>\n",
       "      <td>budapest</td>\n",
       "      <td>165</td>\n",
       "      <td>aeroflot</td>\n",
       "      <td>aeroflot</td>\n",
       "      <td>2468</td>\n",
       "      <td>3710.37</td>\n",
       "      <td>2020-03-01</td>\n",
       "      <td>2020-05-01</td>\n",
       "      <td>20</td>\n",
       "      <td>10</td>\n",
       "      <td>2020-05-01</td>\n",
       "      <td>21</td>\n",
       "      <td>55</td>\n",
       "      <td>61</td>\n",
       "      <td>NaN</td>\n",
       "    </tr>\n",
       "    <tr>\n",
       "      <th>1</th>\n",
       "      <td>moscow</td>\n",
       "      <td>budapest</td>\n",
       "      <td>155</td>\n",
       "      <td>wizz air</td>\n",
       "      <td>wizz air</td>\n",
       "      <td>2490</td>\n",
       "      <td>4763.70</td>\n",
       "      <td>2020-03-01</td>\n",
       "      <td>2020-05-01</td>\n",
       "      <td>10</td>\n",
       "      <td>5</td>\n",
       "      <td>2020-05-01</td>\n",
       "      <td>11</td>\n",
       "      <td>40</td>\n",
       "      <td>61</td>\n",
       "      <td>NaN</td>\n",
       "    </tr>\n",
       "    <tr>\n",
       "      <th>2</th>\n",
       "      <td>moscow</td>\n",
       "      <td>budapest</td>\n",
       "      <td>130</td>\n",
       "      <td>lot</td>\n",
       "      <td>lot</td>\n",
       "      <td>5676</td>\n",
       "      <td>5306.59</td>\n",
       "      <td>2020-03-01</td>\n",
       "      <td>2020-05-01</td>\n",
       "      <td>18</td>\n",
       "      <td>5</td>\n",
       "      <td>2020-05-01</td>\n",
       "      <td>19</td>\n",
       "      <td>15</td>\n",
       "      <td>61</td>\n",
       "      <td>NaN</td>\n",
       "    </tr>\n",
       "    <tr>\n",
       "      <th>3</th>\n",
       "      <td>moscow</td>\n",
       "      <td>budapest</td>\n",
       "      <td>220</td>\n",
       "      <td>brussels airlines</td>\n",
       "      <td>brussels airlines</td>\n",
       "      <td>2846</td>\n",
       "      <td>1879.37</td>\n",
       "      <td>2020-03-01</td>\n",
       "      <td>2020-05-04</td>\n",
       "      <td>15</td>\n",
       "      <td>45</td>\n",
       "      <td>2020-05-04</td>\n",
       "      <td>18</td>\n",
       "      <td>25</td>\n",
       "      <td>64</td>\n",
       "      <td>NaN</td>\n",
       "    </tr>\n",
       "    <tr>\n",
       "      <th>4</th>\n",
       "      <td>moscow</td>\n",
       "      <td>budapest</td>\n",
       "      <td>155</td>\n",
       "      <td>wizz air</td>\n",
       "      <td>wizz air</td>\n",
       "      <td>2490</td>\n",
       "      <td>2177.55</td>\n",
       "      <td>2020-03-01</td>\n",
       "      <td>2020-05-04</td>\n",
       "      <td>10</td>\n",
       "      <td>5</td>\n",
       "      <td>2020-05-04</td>\n",
       "      <td>11</td>\n",
       "      <td>40</td>\n",
       "      <td>64</td>\n",
       "      <td>NaN</td>\n",
       "    </tr>\n",
       "  </tbody>\n",
       "</table>\n",
       "</div>"
      ],
      "text/plain": [
       "  departure_city arrival_city  flight_duration       carrier_name  \\\n",
       "0         moscow     budapest              165           aeroflot   \n",
       "1         moscow     budapest              155           wizz air   \n",
       "2         moscow     budapest              130                lot   \n",
       "3         moscow     budapest              220  brussels airlines   \n",
       "4         moscow     budapest              155           wizz air   \n",
       "\n",
       "          agent_name  flight_number    price measure_date departure_date  \\\n",
       "0           aeroflot           2468  3710.37   2020-03-01     2020-05-01   \n",
       "1           wizz air           2490  4763.70   2020-03-01     2020-05-01   \n",
       "2                lot           5676  5306.59   2020-03-01     2020-05-01   \n",
       "3  brussels airlines           2846  1879.37   2020-03-01     2020-05-04   \n",
       "4           wizz air           2490  2177.55   2020-03-01     2020-05-04   \n",
       "\n",
       "   departure_hour  departure_minute arrival_date  arrival_hour  \\\n",
       "0              20                10   2020-05-01            21   \n",
       "1              10                 5   2020-05-01            11   \n",
       "2              18                 5   2020-05-01            19   \n",
       "3              15                45   2020-05-04            18   \n",
       "4              10                 5   2020-05-04            11   \n",
       "\n",
       "   arrival_minute  days_left_to_departure  previous_price_for_trip  \n",
       "0              55                      61                      NaN  \n",
       "1              40                      61                      NaN  \n",
       "2              15                      61                      NaN  \n",
       "3              25                      64                      NaN  \n",
       "4              40                      64                      NaN  "
      ]
     },
     "execution_count": 5,
     "metadata": {},
     "output_type": "execute_result"
    }
   ],
   "source": [
    "df.head()"
   ]
  },
  {
   "cell_type": "code",
   "execution_count": 6,
   "metadata": {},
   "outputs": [
    {
     "data": {
      "text/plain": [
       "departure_city                     object\n",
       "arrival_city                       object\n",
       "flight_duration                     int64\n",
       "carrier_name                       object\n",
       "agent_name                         object\n",
       "flight_number                       int64\n",
       "price                             float64\n",
       "measure_date               datetime64[ns]\n",
       "departure_date             datetime64[ns]\n",
       "departure_hour                      int64\n",
       "departure_minute                    int64\n",
       "arrival_date               datetime64[ns]\n",
       "arrival_hour                        int64\n",
       "arrival_minute                      int64\n",
       "days_left_to_departure              int64\n",
       "previous_price_for_trip           float64\n",
       "dtype: object"
      ]
     },
     "execution_count": 6,
     "metadata": {},
     "output_type": "execute_result"
    }
   ],
   "source": [
    "df.dtypes"
   ]
  },
  {
   "cell_type": "code",
   "execution_count": 7,
   "metadata": {},
   "outputs": [
    {
     "data": {
      "text/plain": [
       "Timedelta('27 days 00:00:00')"
      ]
     },
     "execution_count": 7,
     "metadata": {},
     "output_type": "execute_result"
    }
   ],
   "source": [
    "df['measure_date'].max()-df['measure_date'].min()"
   ]
  },
  {
   "cell_type": "code",
   "execution_count": 8,
   "metadata": {},
   "outputs": [],
   "source": [
    "tscv = TimeSeriesSplit(n_splits=3)"
   ]
  },
  {
   "cell_type": "code",
   "execution_count": 9,
   "metadata": {},
   "outputs": [],
   "source": [
    "def rmse(real, predicted):\n",
    "    return sqrt(mean_squared_error(real, predicted))"
   ]
  },
  {
   "cell_type": "code",
   "execution_count": 23,
   "metadata": {},
   "outputs": [],
   "source": [
    "def fit_transform_previous(train, test):\n",
    "    predicted = train.iloc[-1]['price']\n",
    "    predict_len = len(test)\n",
    "    return pd.Series([predicted]).repeat(predict_len)"
   ]
  },
  {
   "cell_type": "code",
   "execution_count": 24,
   "metadata": {},
   "outputs": [],
   "source": [
    "def fit_transform_average(train, test):\n",
    "    predicted = train['price'].mean()\n",
    "    predict_len = len(test)\n",
    "    return pd.Series([predicted]).repeat(predict_len)"
   ]
  },
  {
   "cell_type": "code",
   "execution_count": 25,
   "metadata": {},
   "outputs": [
    {
     "name": "stdout",
     "output_type": "stream",
     "text": [
      "MSE on 0th fold: 2900.171979035279\n",
      "MSE on 1th fold: 3124.4506901320055\n",
      "MSE on 2th fold: 3185.6516897343113\n",
      "mean rmse: 3070.0914529671986\n"
     ]
    }
   ],
   "source": [
    "cv_rmse = []\n",
    "for idx, split_idx_tuple in enumerate(tscv.split(df)):\n",
    "    x_train_idx, x_test_idx = split_idx_tuple[0], split_idx_tuple[1]\n",
    "    train, test = df.iloc[x_train_idx], df.iloc[x_test_idx]\n",
    "    prediction = fit_transform_previous(train, test)\n",
    "    current_rmse = rmse(prediction, test['price'])\n",
    "    cv_rmse.append(current_rmse)\n",
    "    print(\"MSE on {}th fold: {}\".format(idx, current_rmse))\n",
    "\n",
    "mean_rmse = sum(cv_rmse) / len(cv_rmse)\n",
    "print(\"mean rmse: {}\".format(mean_rmse))"
   ]
  },
  {
   "cell_type": "code",
   "execution_count": 26,
   "metadata": {},
   "outputs": [
    {
     "name": "stdout",
     "output_type": "stream",
     "text": [
      "MSE on 0th fold: 2586.6157903039366\n",
      "MSE on 1th fold: 2485.4311423963222\n",
      "MSE on 2th fold: 2502.228901134096\n",
      "mean rmse: 2524.7586112781187\n"
     ]
    }
   ],
   "source": [
    "cv_rmse = []\n",
    "for idx, split_idx_tuple in enumerate(tscv.split(df)):\n",
    "    x_train_idx, x_test_idx = split_idx_tuple[0], split_idx_tuple[1]\n",
    "    train, test = df.iloc[x_train_idx], df.iloc[x_test_idx]\n",
    "    prediction = fit_transform_average(train, test)\n",
    "    current_rmse = rmse(prediction, test['price'])\n",
    "    cv_rmse.append(current_rmse)\n",
    "    print(\"MSE on {}th fold: {}\".format(idx, current_rmse))\n",
    "\n",
    "mean_rmse = sum(cv_rmse) / len(cv_rmse)\n",
    "print(\"mean rmse: {}\".format(mean_rmse))"
   ]
  }
 ],
 "metadata": {
  "kernelspec": {
   "display_name": "Python (scrapper)",
   "language": "python",
   "name": "scrapper"
  },
  "language_info": {
   "codemirror_mode": {
    "name": "ipython",
    "version": 3
   },
   "file_extension": ".py",
   "mimetype": "text/x-python",
   "name": "python",
   "nbconvert_exporter": "python",
   "pygments_lexer": "ipython3",
   "version": "3.7.4"
  }
 },
 "nbformat": 4,
 "nbformat_minor": 4
}
