{
 "cells": [
  {
   "cell_type": "code",
   "execution_count": 144,
   "metadata": {},
   "outputs": [],
   "source": [
    "import pandas as pd\n",
    "from math import sqrt\n",
    "import glob\n",
    "from pathlib import Path\n",
    "import pandas_profiling\n",
    "from matplotlib import pyplot\n",
    "import seaborn as sns\n",
    "from pandas.plotting import autocorrelation_plot\n",
    "from datetime import datetime\n",
    "from sklearn.model_selection import TimeSeriesSplit\n",
    "from sklearn.metrics import mean_squared_error, mean_absolute_error, r2_score\n",
    "from math import sqrt\n",
    "from statistics import mean "
   ]
  },
  {
   "cell_type": "code",
   "execution_count": 145,
   "metadata": {},
   "outputs": [],
   "source": [
    "pd.set_option('display.max_rows', 1000)"
   ]
  },
  {
   "cell_type": "code",
   "execution_count": 146,
   "metadata": {},
   "outputs": [],
   "source": [
    "df = pd.read_csv('/Users/ioneuk/Documents/flight-price-predictor/data/processed_dataset2.csv', parse_dates=['date_time', 'departure_date_time', 'arrival_date_time'])"
   ]
  },
  {
   "cell_type": "code",
   "execution_count": 147,
   "metadata": {},
   "outputs": [
    {
     "data": {
      "text/plain": [
       "date_time                datetime64[ns]\n",
       "departure_city                   object\n",
       "departure_iata_code              object\n",
       "arrival_city                     object\n",
       "destination_iata_code            object\n",
       "departure_date_time      datetime64[ns]\n",
       "arrival_date_time        datetime64[ns]\n",
       "flight_duration                   int64\n",
       "carrier_name                     object\n",
       "agent_name                       object\n",
       "flight_number                     int64\n",
       "price                           float64\n",
       "prev_price_1                      int64\n",
       "prev_price_2                      int64\n",
       "prev_price_3                      int64\n",
       "dtype: object"
      ]
     },
     "execution_count": 147,
     "metadata": {},
     "output_type": "execute_result"
    }
   ],
   "source": [
    "df.dtypes"
   ]
  },
  {
   "cell_type": "code",
   "execution_count": 148,
   "metadata": {},
   "outputs": [
    {
     "data": {
      "text/plain": [
       "(7168, 15)"
      ]
     },
     "execution_count": 148,
     "metadata": {},
     "output_type": "execute_result"
    }
   ],
   "source": [
    "df.shape"
   ]
  },
  {
   "cell_type": "code",
   "execution_count": 149,
   "metadata": {},
   "outputs": [
    {
     "data": {
      "text/html": [
       "<div>\n",
       "<style scoped>\n",
       "    .dataframe tbody tr th:only-of-type {\n",
       "        vertical-align: middle;\n",
       "    }\n",
       "\n",
       "    .dataframe tbody tr th {\n",
       "        vertical-align: top;\n",
       "    }\n",
       "\n",
       "    .dataframe thead th {\n",
       "        text-align: right;\n",
       "    }\n",
       "</style>\n",
       "<table border=\"1\" class=\"dataframe\">\n",
       "  <thead>\n",
       "    <tr style=\"text-align: right;\">\n",
       "      <th></th>\n",
       "      <th>date_time</th>\n",
       "      <th>departure_city</th>\n",
       "      <th>departure_iata_code</th>\n",
       "      <th>arrival_city</th>\n",
       "      <th>destination_iata_code</th>\n",
       "      <th>departure_date_time</th>\n",
       "      <th>arrival_date_time</th>\n",
       "      <th>flight_duration</th>\n",
       "      <th>carrier_name</th>\n",
       "      <th>agent_name</th>\n",
       "      <th>flight_number</th>\n",
       "      <th>price</th>\n",
       "      <th>prev_price_1</th>\n",
       "      <th>prev_price_2</th>\n",
       "      <th>prev_price_3</th>\n",
       "    </tr>\n",
       "  </thead>\n",
       "  <tbody>\n",
       "    <tr>\n",
       "      <th>0</th>\n",
       "      <td>2020-02-03 16:13:33.764254</td>\n",
       "      <td>Barcelona</td>\n",
       "      <td>BCN</td>\n",
       "      <td>athens</td>\n",
       "      <td>ATH</td>\n",
       "      <td>2020-03-14 07:15:00</td>\n",
       "      <td>2020-03-14 11:10:00</td>\n",
       "      <td>175</td>\n",
       "      <td>Vueling Airlines</td>\n",
       "      <td>Vueling Airlines</td>\n",
       "      <td>8100</td>\n",
       "      <td>1381.03</td>\n",
       "      <td>0</td>\n",
       "      <td>0</td>\n",
       "      <td>0</td>\n",
       "    </tr>\n",
       "    <tr>\n",
       "      <th>1</th>\n",
       "      <td>2020-02-03 12:58:17.541189</td>\n",
       "      <td>Bucharest</td>\n",
       "      <td>OTP</td>\n",
       "      <td>Vienna</td>\n",
       "      <td>VIE</td>\n",
       "      <td>2020-03-14 16:40:00</td>\n",
       "      <td>2020-03-14 17:20:00</td>\n",
       "      <td>100</td>\n",
       "      <td>Laudamotion</td>\n",
       "      <td>Ryanair</td>\n",
       "      <td>347</td>\n",
       "      <td>1281.57</td>\n",
       "      <td>0</td>\n",
       "      <td>0</td>\n",
       "      <td>0</td>\n",
       "    </tr>\n",
       "    <tr>\n",
       "      <th>2</th>\n",
       "      <td>2020-02-03 20:44:16.139427</td>\n",
       "      <td>kopenhagen</td>\n",
       "      <td>CPH</td>\n",
       "      <td>Edinburgh</td>\n",
       "      <td>EDI</td>\n",
       "      <td>2020-03-11 22:05:00</td>\n",
       "      <td>2020-03-11 23:00:00</td>\n",
       "      <td>115</td>\n",
       "      <td>Ryanair</td>\n",
       "      <td>Ryanair</td>\n",
       "      <td>2675</td>\n",
       "      <td>384.56</td>\n",
       "      <td>0</td>\n",
       "      <td>0</td>\n",
       "      <td>0</td>\n",
       "    </tr>\n",
       "    <tr>\n",
       "      <th>3</th>\n",
       "      <td>2020-02-03 18:20:37.319330</td>\n",
       "      <td>Brussels</td>\n",
       "      <td>CRL</td>\n",
       "      <td>Venice</td>\n",
       "      <td>TSF</td>\n",
       "      <td>2020-03-11 06:40:00</td>\n",
       "      <td>2020-03-11 08:15:00</td>\n",
       "      <td>95</td>\n",
       "      <td>Ryanair</td>\n",
       "      <td>Ryanair</td>\n",
       "      <td>6033</td>\n",
       "      <td>386.49</td>\n",
       "      <td>0</td>\n",
       "      <td>0</td>\n",
       "      <td>0</td>\n",
       "    </tr>\n",
       "    <tr>\n",
       "      <th>4</th>\n",
       "      <td>2020-02-03 18:20:37.319330</td>\n",
       "      <td>Brussels</td>\n",
       "      <td>CRL</td>\n",
       "      <td>Venice</td>\n",
       "      <td>TSF</td>\n",
       "      <td>2020-03-11 17:00:00</td>\n",
       "      <td>2020-03-11 18:35:00</td>\n",
       "      <td>95</td>\n",
       "      <td>Ryanair</td>\n",
       "      <td>Ryanair</td>\n",
       "      <td>6055</td>\n",
       "      <td>275.99</td>\n",
       "      <td>0</td>\n",
       "      <td>0</td>\n",
       "      <td>0</td>\n",
       "    </tr>\n",
       "  </tbody>\n",
       "</table>\n",
       "</div>"
      ],
      "text/plain": [
       "                   date_time departure_city departure_iata_code arrival_city  \\\n",
       "0 2020-02-03 16:13:33.764254      Barcelona                 BCN       athens   \n",
       "1 2020-02-03 12:58:17.541189      Bucharest                 OTP       Vienna   \n",
       "2 2020-02-03 20:44:16.139427     kopenhagen                 CPH    Edinburgh   \n",
       "3 2020-02-03 18:20:37.319330       Brussels                 CRL       Venice   \n",
       "4 2020-02-03 18:20:37.319330       Brussels                 CRL       Venice   \n",
       "\n",
       "  destination_iata_code departure_date_time   arrival_date_time  \\\n",
       "0                   ATH 2020-03-14 07:15:00 2020-03-14 11:10:00   \n",
       "1                   VIE 2020-03-14 16:40:00 2020-03-14 17:20:00   \n",
       "2                   EDI 2020-03-11 22:05:00 2020-03-11 23:00:00   \n",
       "3                   TSF 2020-03-11 06:40:00 2020-03-11 08:15:00   \n",
       "4                   TSF 2020-03-11 17:00:00 2020-03-11 18:35:00   \n",
       "\n",
       "   flight_duration      carrier_name        agent_name  flight_number  \\\n",
       "0              175  Vueling Airlines  Vueling Airlines           8100   \n",
       "1              100       Laudamotion           Ryanair            347   \n",
       "2              115           Ryanair           Ryanair           2675   \n",
       "3               95           Ryanair           Ryanair           6033   \n",
       "4               95           Ryanair           Ryanair           6055   \n",
       "\n",
       "     price  prev_price_1  prev_price_2  prev_price_3  \n",
       "0  1381.03             0             0             0  \n",
       "1  1281.57             0             0             0  \n",
       "2   384.56             0             0             0  \n",
       "3   386.49             0             0             0  \n",
       "4   275.99             0             0             0  "
      ]
     },
     "execution_count": 149,
     "metadata": {},
     "output_type": "execute_result"
    }
   ],
   "source": [
    "df.head()"
   ]
  },
  {
   "cell_type": "code",
   "execution_count": 150,
   "metadata": {},
   "outputs": [
    {
     "data": {
      "text/plain": [
       "Index(['date_time', 'departure_city', 'departure_iata_code', 'arrival_city',\n",
       "       'destination_iata_code', 'departure_date_time', 'arrival_date_time',\n",
       "       'flight_duration', 'carrier_name', 'agent_name', 'flight_number',\n",
       "       'price', 'prev_price_1', 'prev_price_2', 'prev_price_3'],\n",
       "      dtype='object')"
      ]
     },
     "execution_count": 150,
     "metadata": {},
     "output_type": "execute_result"
    }
   ],
   "source": [
    "df.columns"
   ]
  },
  {
   "cell_type": "code",
   "execution_count": 151,
   "metadata": {},
   "outputs": [],
   "source": [
    "tscv = TimeSeriesSplit(n_splits=3)"
   ]
  },
  {
   "cell_type": "code",
   "execution_count": 152,
   "metadata": {},
   "outputs": [
    {
     "data": {
      "text/plain": [
       "date_time                datetime64[ns]\n",
       "departure_city                   object\n",
       "departure_iata_code              object\n",
       "arrival_city                     object\n",
       "destination_iata_code            object\n",
       "departure_date_time      datetime64[ns]\n",
       "arrival_date_time        datetime64[ns]\n",
       "flight_duration                   int64\n",
       "carrier_name                     object\n",
       "agent_name                       object\n",
       "flight_number                     int64\n",
       "price                           float64\n",
       "prev_price_1                      int64\n",
       "prev_price_2                      int64\n",
       "prev_price_3                      int64\n",
       "dtype: object"
      ]
     },
     "execution_count": 152,
     "metadata": {},
     "output_type": "execute_result"
    }
   ],
   "source": [
    "df.dtypes"
   ]
  },
  {
   "cell_type": "code",
   "execution_count": 153,
   "metadata": {},
   "outputs": [],
   "source": [
    "all_features = df.columns"
   ]
  },
  {
   "cell_type": "code",
   "execution_count": 154,
   "metadata": {},
   "outputs": [],
   "source": [
    "categorical_features = ['departure_city','arrival_city', 'carrier_name']"
   ]
  },
  {
   "cell_type": "code",
   "execution_count": 155,
   "metadata": {},
   "outputs": [],
   "source": [
    "all_columns_to_use = ['departure_city','arrival_city', 'flight_duration', 'carrier_name', 'flight_number', 'departure_hour', 'departure_minute', 'arrival_hour', 'arrival_minute', 'days_left_to_departure', 'is_holiday', 'prev_price_1']"
   ]
  },
  {
   "cell_type": "code",
   "execution_count": 156,
   "metadata": {},
   "outputs": [],
   "source": [
    "def rmse(real, predicted):\n",
    "    return sqrt(mean_squared_error(real, predicted))"
   ]
  },
  {
   "cell_type": "code",
   "execution_count": 157,
   "metadata": {},
   "outputs": [],
   "source": [
    "parameters = {\n",
    "    \"loss_function\": \"RMSE\",\n",
    "    \"eval_metric\": \"R2\",\n",
    "    \"iterations\": 1000,\n",
    "    \"learning_rate\": 0.03,\n",
    "    \"random_seed\": 42,\n",
    "    \"od_wait\": 30,\n",
    "    \"od_type\": \"Iter\",\n",
    "    \"thread_count\": 10,\n",
    "    \"silent\": True,\n",
    "    \"cat_features\": categorical_features\n",
    "}"
   ]
  },
  {
   "cell_type": "code",
   "execution_count": 158,
   "metadata": {},
   "outputs": [],
   "source": [
    "def predict_by_previous(test):\n",
    "    return test['prev_price_1']"
   ]
  },
  {
   "cell_type": "code",
   "execution_count": 159,
   "metadata": {},
   "outputs": [],
   "source": [
    "def fit_transform_average(test):\n",
    "    return test.loc[:, ['prev_price_1', 'prev_price_2', 'prev_price_3']].mean(axis=1)"
   ]
  },
  {
   "cell_type": "code",
   "execution_count": 160,
   "metadata": {},
   "outputs": [
    {
     "name": "stdout",
     "output_type": "stream",
     "text": [
      "RMSE on 0th fold: 359.53144460757136\n",
      "MAE on 0th fold: 202.21926339285713\n",
      "R2 on 0th fold: 0.8245853860035136\n",
      "RMSE on 1th fold: 364.82659924670094\n",
      "MAE on 1th fold: 210.8104966517857\n",
      "R2 on 1th fold: 0.8319544465008157\n",
      "RMSE on 2th fold: 569.4432012123068\n",
      "MAE on 2th fold: 319.7889174107143\n",
      "R2 on 2th fold: 0.6516958735172547\n",
      "mean rmse: 431.2670816888597\n",
      "mean mae: 244.27289248511906\n",
      "mean r2: 0.7694119020071947\n"
     ]
    }
   ],
   "source": [
    "cv_rmse = []\n",
    "cv_mae = []\n",
    "cv_r2 = []\n",
    "for idx, split_idx_tuple in enumerate(tscv.split(df)):\n",
    "    x_train_idx, x_test_idx = split_idx_tuple[0], split_idx_tuple[1]\n",
    "    prediction = predict_by_previous(df.iloc[x_test_idx])\n",
    "    current_rmse = rmse(prediction, df.loc[x_test_idx, 'price'])\n",
    "    current_mae = mean_absolute_error(df.loc[x_test_idx, 'price'], prediction)\n",
    "    current_r2 = r2_score(df.loc[x_test_idx, 'price'], prediction)\n",
    "    cv_rmse.append(current_rmse)\n",
    "    cv_mae.append(current_mae)\n",
    "    cv_r2.append(current_r2)\n",
    "    print(\"RMSE on {}th fold: {}\".format(idx, current_rmse))\n",
    "    print(\"MAE on {}th fold: {}\".format(idx, current_mae))\n",
    "    print(\"R2 on {}th fold: {}\".format(idx, current_r2))\n",
    "\n",
    "mean_rmse = sum(cv_rmse) / len(cv_rmse)\n",
    "mean_mae = sum(cv_mae) / len(cv_mae)\n",
    "mean_r2 = sum(cv_r2) / len(cv_r2)\n",
    "print(\"mean rmse: {}\".format(mean_rmse))\n",
    "print(\"mean mae: {}\".format(mean_mae))\n",
    "print(\"mean r2: {}\".format(mean_r2))"
   ]
  },
  {
   "cell_type": "code",
   "execution_count": 161,
   "metadata": {},
   "outputs": [
    {
     "name": "stdout",
     "output_type": "stream",
     "text": [
      "RMSE on 0th fold: 526.2187545642579\n",
      "MAE on 0th fold: 325.32567336309523\n",
      "R2 on 0th fold: 0.624227791387404\n",
      "RMSE on 1th fold: 398.1634464651398\n",
      "MAE on 1th fold: 255.7011514136905\n",
      "R2 on 1th fold: 0.7998402224958447\n",
      "RMSE on 2th fold: 626.4479563764963\n",
      "MAE on 2th fold: 386.07187500000003\n",
      "R2 on 2th fold: 0.5784706788469847\n",
      "mean rmse: 516.9433858019647\n",
      "mean mae: 322.36623325892856\n",
      "mean r2: 0.6675128975767445\n"
     ]
    }
   ],
   "source": [
    "cv_rmse = []\n",
    "cv_mae = []\n",
    "cv_r2 = []\n",
    "for idx, split_idx_tuple in enumerate(tscv.split(df)):\n",
    "    x_train_idx, x_test_idx = split_idx_tuple[0], split_idx_tuple[1]\n",
    "    train, test = df.iloc[x_train_idx], df.iloc[x_test_idx]\n",
    "    prediction = fit_transform_average(test)\n",
    "    current_rmse = rmse(prediction, df.loc[x_test_idx, 'price'])\n",
    "    current_mae = mean_absolute_error(df.loc[x_test_idx, 'price'], prediction)\n",
    "    current_r2 = r2_score(df.loc[x_test_idx, 'price'], prediction)\n",
    "    cv_rmse.append(current_rmse)\n",
    "    cv_mae.append(current_mae)\n",
    "    cv_r2.append(current_r2)\n",
    "    print(\"RMSE on {}th fold: {}\".format(idx, current_rmse))\n",
    "    print(\"MAE on {}th fold: {}\".format(idx, current_mae))\n",
    "    print(\"R2 on {}th fold: {}\".format(idx, current_r2))\n",
    "\n",
    "mean_rmse = sum(cv_rmse) / len(cv_rmse)\n",
    "mean_mae = sum(cv_mae) / len(cv_mae)\n",
    "mean_r2 = sum(cv_r2) / len(cv_r2)\n",
    "print(\"mean rmse: {}\".format(mean_rmse))\n",
    "print(\"mean mae: {}\".format(mean_mae))\n",
    "print(\"mean r2: {}\".format(mean_r2))"
   ]
  }
 ],
 "metadata": {
  "kernelspec": {
   "display_name": "Python (scrapper)",
   "language": "python",
   "name": "scrapper"
  },
  "language_info": {
   "codemirror_mode": {
    "name": "ipython",
    "version": 3
   },
   "file_extension": ".py",
   "mimetype": "text/x-python",
   "name": "python",
   "nbconvert_exporter": "python",
   "pygments_lexer": "ipython3",
   "version": "3.7.4"
  }
 },
 "nbformat": 4,
 "nbformat_minor": 4
}
