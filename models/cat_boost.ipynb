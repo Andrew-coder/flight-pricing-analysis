{
 "cells": [
  {
   "cell_type": "code",
   "execution_count": 87,
   "metadata": {},
   "outputs": [],
   "source": [
    "import os, sys\n",
    "import pathlib\n",
    "sys.path.append(os.path.join(pathlib.Path().absolute(), '../src/predictor'))\n",
    "import pandas as pd\n",
    "import numpy as np\n",
    "from datetime import datetime\n",
    "from sklearn.pipeline import Pipeline\n",
    "from sklearn.model_selection import cross_val_score, GridSearchCV, TimeSeriesSplit\n",
    "from sklearn.metrics import mean_squared_error, mean_absolute_error, r2_score\n",
    "from sklearn.model_selection import cross_val_score\n",
    "from math import sqrt\n",
    "from catboost import CatBoostRegressor\n",
    "from joblib import dump\n",
    "from sklearn.metrics import r2_score\n",
    "from sklearn.compose import ColumnTransformer, make_column_transformer\n",
    "from sklearn import preprocessing\n",
    "from utils import DateTransformer\n",
    "from utils import MultiColumnLabelEncoder\n",
    "from utils import ColumnSelector\n",
    "from sklearn.preprocessing import LabelEncoder\n",
    "import matplotlib.pyplot as plt\n",
    "\n",
    "from sklearn.base import BaseEstimator, TransformerMixin\n",
    "from IPython.display import display"
   ]
  },
  {
   "cell_type": "code",
   "execution_count": 88,
   "metadata": {},
   "outputs": [],
   "source": [
    "pd.set_option('display.max_rows', 1000)"
   ]
  },
  {
   "cell_type": "code",
   "execution_count": 89,
   "metadata": {},
   "outputs": [],
   "source": [
    "df = pd.read_csv('/Users/ioneuk/Documents/flight-price-predictor/data/processed_dataset2.csv', parse_dates=['date_time', 'departure_date_time', 'arrival_date_time'])"
   ]
  },
  {
   "cell_type": "code",
   "execution_count": 90,
   "metadata": {},
   "outputs": [
    {
     "data": {
      "text/plain": [
       "date_time                datetime64[ns]\n",
       "departure_city                   object\n",
       "departure_iata_code              object\n",
       "arrival_city                     object\n",
       "destination_iata_code            object\n",
       "departure_date_time      datetime64[ns]\n",
       "arrival_date_time        datetime64[ns]\n",
       "flight_duration                   int64\n",
       "carrier_name                     object\n",
       "agent_name                       object\n",
       "flight_number                     int64\n",
       "price                           float64\n",
       "prev_price_1                      int64\n",
       "prev_price_2                      int64\n",
       "prev_price_3                      int64\n",
       "dtype: object"
      ]
     },
     "execution_count": 90,
     "metadata": {},
     "output_type": "execute_result"
    }
   ],
   "source": [
    "df.dtypes"
   ]
  },
  {
   "cell_type": "code",
   "execution_count": 91,
   "metadata": {},
   "outputs": [
    {
     "data": {
      "text/plain": [
       "(8258, 15)"
      ]
     },
     "execution_count": 91,
     "metadata": {},
     "output_type": "execute_result"
    }
   ],
   "source": [
    "df.shape"
   ]
  },
  {
   "cell_type": "code",
   "execution_count": 92,
   "metadata": {},
   "outputs": [
    {
     "data": {
      "text/html": [
       "<div>\n",
       "<style scoped>\n",
       "    .dataframe tbody tr th:only-of-type {\n",
       "        vertical-align: middle;\n",
       "    }\n",
       "\n",
       "    .dataframe tbody tr th {\n",
       "        vertical-align: top;\n",
       "    }\n",
       "\n",
       "    .dataframe thead th {\n",
       "        text-align: right;\n",
       "    }\n",
       "</style>\n",
       "<table border=\"1\" class=\"dataframe\">\n",
       "  <thead>\n",
       "    <tr style=\"text-align: right;\">\n",
       "      <th></th>\n",
       "      <th>date_time</th>\n",
       "      <th>departure_city</th>\n",
       "      <th>departure_iata_code</th>\n",
       "      <th>arrival_city</th>\n",
       "      <th>destination_iata_code</th>\n",
       "      <th>departure_date_time</th>\n",
       "      <th>arrival_date_time</th>\n",
       "      <th>flight_duration</th>\n",
       "      <th>carrier_name</th>\n",
       "      <th>agent_name</th>\n",
       "      <th>flight_number</th>\n",
       "      <th>price</th>\n",
       "      <th>prev_price_1</th>\n",
       "      <th>prev_price_2</th>\n",
       "      <th>prev_price_3</th>\n",
       "    </tr>\n",
       "  </thead>\n",
       "  <tbody>\n",
       "    <tr>\n",
       "      <td>0</td>\n",
       "      <td>2020-02-03 05:26:15.387024</td>\n",
       "      <td>Kiev</td>\n",
       "      <td>IEV</td>\n",
       "      <td>Vienna</td>\n",
       "      <td>VIE</td>\n",
       "      <td>2020-03-14 13:10:00</td>\n",
       "      <td>2020-03-14 14:10:00</td>\n",
       "      <td>120</td>\n",
       "      <td>Wizz Air</td>\n",
       "      <td>Wizz Air</td>\n",
       "      <td>6127</td>\n",
       "      <td>975.05</td>\n",
       "      <td>0</td>\n",
       "      <td>0</td>\n",
       "      <td>0</td>\n",
       "    </tr>\n",
       "    <tr>\n",
       "      <td>1</td>\n",
       "      <td>2020-02-03 18:15:23.872834</td>\n",
       "      <td>Sofia</td>\n",
       "      <td>SOF</td>\n",
       "      <td>Budapest</td>\n",
       "      <td>BUD</td>\n",
       "      <td>2020-03-05 13:00:00</td>\n",
       "      <td>2020-03-05 13:25:00</td>\n",
       "      <td>85</td>\n",
       "      <td>Wizz Air</td>\n",
       "      <td>Wizz Air</td>\n",
       "      <td>2472</td>\n",
       "      <td>409.49</td>\n",
       "      <td>0</td>\n",
       "      <td>0</td>\n",
       "      <td>0</td>\n",
       "    </tr>\n",
       "    <tr>\n",
       "      <td>2</td>\n",
       "      <td>2020-02-03 11:01:54.768565</td>\n",
       "      <td>Berlin</td>\n",
       "      <td>SXF</td>\n",
       "      <td>Geneva</td>\n",
       "      <td>GVA</td>\n",
       "      <td>2020-03-14 17:00:00</td>\n",
       "      <td>2020-03-14 18:45:00</td>\n",
       "      <td>105</td>\n",
       "      <td>easyJet</td>\n",
       "      <td>easyJet</td>\n",
       "      <td>1596</td>\n",
       "      <td>623.10</td>\n",
       "      <td>0</td>\n",
       "      <td>0</td>\n",
       "      <td>0</td>\n",
       "    </tr>\n",
       "    <tr>\n",
       "      <td>3</td>\n",
       "      <td>2020-02-03 11:01:54.768565</td>\n",
       "      <td>Berlin</td>\n",
       "      <td>SXF</td>\n",
       "      <td>Geneva</td>\n",
       "      <td>GVA</td>\n",
       "      <td>2020-03-14 06:10:00</td>\n",
       "      <td>2020-03-14 08:00:00</td>\n",
       "      <td>110</td>\n",
       "      <td>easyJet</td>\n",
       "      <td>easyJet</td>\n",
       "      <td>1592</td>\n",
       "      <td>623.10</td>\n",
       "      <td>0</td>\n",
       "      <td>0</td>\n",
       "      <td>0</td>\n",
       "    </tr>\n",
       "    <tr>\n",
       "      <td>4</td>\n",
       "      <td>2020-02-03 11:01:54.768565</td>\n",
       "      <td>Berlin</td>\n",
       "      <td>TXL</td>\n",
       "      <td>Zurich</td>\n",
       "      <td>ZRH</td>\n",
       "      <td>2020-03-05 14:10:00</td>\n",
       "      <td>2020-03-05 15:40:00</td>\n",
       "      <td>90</td>\n",
       "      <td>easyJet</td>\n",
       "      <td>easyJet</td>\n",
       "      <td>5867</td>\n",
       "      <td>623.10</td>\n",
       "      <td>0</td>\n",
       "      <td>0</td>\n",
       "      <td>0</td>\n",
       "    </tr>\n",
       "  </tbody>\n",
       "</table>\n",
       "</div>"
      ],
      "text/plain": [
       "                   date_time departure_city departure_iata_code arrival_city  \\\n",
       "0 2020-02-03 05:26:15.387024           Kiev                 IEV       Vienna   \n",
       "1 2020-02-03 18:15:23.872834          Sofia                 SOF     Budapest   \n",
       "2 2020-02-03 11:01:54.768565         Berlin                 SXF       Geneva   \n",
       "3 2020-02-03 11:01:54.768565         Berlin                 SXF       Geneva   \n",
       "4 2020-02-03 11:01:54.768565         Berlin                 TXL       Zurich   \n",
       "\n",
       "  destination_iata_code departure_date_time   arrival_date_time  \\\n",
       "0                   VIE 2020-03-14 13:10:00 2020-03-14 14:10:00   \n",
       "1                   BUD 2020-03-05 13:00:00 2020-03-05 13:25:00   \n",
       "2                   GVA 2020-03-14 17:00:00 2020-03-14 18:45:00   \n",
       "3                   GVA 2020-03-14 06:10:00 2020-03-14 08:00:00   \n",
       "4                   ZRH 2020-03-05 14:10:00 2020-03-05 15:40:00   \n",
       "\n",
       "   flight_duration carrier_name agent_name  flight_number   price  \\\n",
       "0              120     Wizz Air   Wizz Air           6127  975.05   \n",
       "1               85     Wizz Air   Wizz Air           2472  409.49   \n",
       "2              105      easyJet    easyJet           1596  623.10   \n",
       "3              110      easyJet    easyJet           1592  623.10   \n",
       "4               90      easyJet    easyJet           5867  623.10   \n",
       "\n",
       "   prev_price_1  prev_price_2  prev_price_3  \n",
       "0             0             0             0  \n",
       "1             0             0             0  \n",
       "2             0             0             0  \n",
       "3             0             0             0  \n",
       "4             0             0             0  "
      ]
     },
     "execution_count": 92,
     "metadata": {},
     "output_type": "execute_result"
    }
   ],
   "source": [
    "df.head()"
   ]
  },
  {
   "cell_type": "code",
   "execution_count": 93,
   "metadata": {},
   "outputs": [
    {
     "data": {
      "text/plain": [
       "Index(['date_time', 'departure_city', 'departure_iata_code', 'arrival_city',\n",
       "       'destination_iata_code', 'departure_date_time', 'arrival_date_time',\n",
       "       'flight_duration', 'carrier_name', 'agent_name', 'flight_number',\n",
       "       'price', 'prev_price_1', 'prev_price_2', 'prev_price_3'],\n",
       "      dtype='object')"
      ]
     },
     "execution_count": 93,
     "metadata": {},
     "output_type": "execute_result"
    }
   ],
   "source": [
    "df.columns"
   ]
  },
  {
   "cell_type": "code",
   "execution_count": 94,
   "metadata": {},
   "outputs": [],
   "source": [
    "tscv = TimeSeriesSplit(n_splits=3)"
   ]
  },
  {
   "cell_type": "code",
   "execution_count": 95,
   "metadata": {},
   "outputs": [
    {
     "data": {
      "text/plain": [
       "date_time                datetime64[ns]\n",
       "departure_city                   object\n",
       "departure_iata_code              object\n",
       "arrival_city                     object\n",
       "destination_iata_code            object\n",
       "departure_date_time      datetime64[ns]\n",
       "arrival_date_time        datetime64[ns]\n",
       "flight_duration                   int64\n",
       "carrier_name                     object\n",
       "agent_name                       object\n",
       "flight_number                     int64\n",
       "price                           float64\n",
       "prev_price_1                      int64\n",
       "prev_price_2                      int64\n",
       "prev_price_3                      int64\n",
       "dtype: object"
      ]
     },
     "execution_count": 95,
     "metadata": {},
     "output_type": "execute_result"
    }
   ],
   "source": [
    "df.dtypes"
   ]
  },
  {
   "cell_type": "code",
   "execution_count": 96,
   "metadata": {},
   "outputs": [],
   "source": [
    "all_features = df.columns"
   ]
  },
  {
   "cell_type": "code",
   "execution_count": 97,
   "metadata": {},
   "outputs": [],
   "source": [
    "categorical_features = ['departure_city','arrival_city', 'carrier_name']"
   ]
  },
  {
   "cell_type": "code",
   "execution_count": 98,
   "metadata": {},
   "outputs": [],
   "source": [
    "all_columns_to_use = ['departure_city','arrival_city', 'flight_duration', 'carrier_name', 'flight_number', 'departure_hour', 'departure_minute', 'arrival_hour', 'arrival_minute', 'days_left_to_departure', 'is_holiday', 'prev_price_1', 'prev_price_2', 'prev_price_3']"
   ]
  },
  {
   "cell_type": "code",
   "execution_count": 99,
   "metadata": {},
   "outputs": [],
   "source": [
    "def rmse(real, predicted):\n",
    "    return sqrt(mean_squared_error(real, predicted))"
   ]
  },
  {
   "cell_type": "code",
   "execution_count": 100,
   "metadata": {},
   "outputs": [],
   "source": [
    "parameters = {\n",
    "    \"loss_function\": \"RMSE\",\n",
    "    \"eval_metric\": \"R2\",\n",
    "    \"iterations\": 1000,\n",
    "    \"learning_rate\": 0.03,\n",
    "    \"random_seed\": 42,\n",
    "    \"od_wait\": 30,\n",
    "    \"od_type\": \"Iter\",\n",
    "    \"thread_count\": 10,\n",
    "    \"silent\": True,\n",
    "    \"cat_features\": categorical_features\n",
    "}"
   ]
  },
  {
   "cell_type": "code",
   "execution_count": 101,
   "metadata": {},
   "outputs": [],
   "source": [
    "# grid_search_params = {\n",
    "#     'price_regressor__learning_rate': [0.03],\n",
    "# #      'depth': [4, 6, 8, 10],\n",
    "#      'price_regressor__iterations': [500]\n",
    "# }"
   ]
  },
  {
   "cell_type": "code",
   "execution_count": 102,
   "metadata": {},
   "outputs": [],
   "source": [
    "price_regressor = CatBoostRegressor(**parameters)"
   ]
  },
  {
   "cell_type": "code",
   "execution_count": 103,
   "metadata": {},
   "outputs": [],
   "source": [
    "class DebugTransformer(BaseEstimator, TransformerMixin):\n",
    "    def __init__(self, columns=None):\n",
    "        self.columns = columns\n",
    "\n",
    "    def fit(self, X, y=None):\n",
    "        print(X.columns)\n",
    "        print()\n",
    "        print(X.dtypes)\n",
    "        return self\n",
    "\n",
    "    def transform(self, df, y=None):\n",
    "        return df"
   ]
  },
  {
   "cell_type": "code",
   "execution_count": 104,
   "metadata": {},
   "outputs": [],
   "source": [
    "pipeline = Pipeline( steps = [\n",
    "    ('date_transformer', DateTransformer()),\n",
    "    ('label_encoder', MultiColumnLabelEncoder(columns = categorical_features)),\n",
    "#     ('shift_transformer_1', ShiftTransformer('price', 'prev_price_1', 'int', ['departure_date', 'arrival_date', 'departure_city','arrival_city','flight_number','carrier_name'], 1, 'date_time')),\n",
    "    ('column_selector', ColumnSelector(all_columns_to_use)),\n",
    "#     ('debug', DebugTransformer()),\n",
    "    ('price_regressor', price_regressor)])"
   ]
  },
  {
   "cell_type": "code",
   "execution_count": 105,
   "metadata": {},
   "outputs": [
    {
     "data": {
      "text/plain": [
       "<function sklearn.pipeline.Pipeline.predict(self, X, **predict_params)>"
      ]
     },
     "execution_count": 105,
     "metadata": {},
     "output_type": "execute_result"
    }
   ],
   "source": [
    "pipeline.predict"
   ]
  },
  {
   "cell_type": "code",
   "execution_count": 106,
   "metadata": {},
   "outputs": [
    {
     "data": {
      "text/html": [
       "<div>\n",
       "<style scoped>\n",
       "    .dataframe tbody tr th:only-of-type {\n",
       "        vertical-align: middle;\n",
       "    }\n",
       "\n",
       "    .dataframe tbody tr th {\n",
       "        vertical-align: top;\n",
       "    }\n",
       "\n",
       "    .dataframe thead th {\n",
       "        text-align: right;\n",
       "    }\n",
       "</style>\n",
       "<table border=\"1\" class=\"dataframe\">\n",
       "  <thead>\n",
       "    <tr style=\"text-align: right;\">\n",
       "      <th></th>\n",
       "      <th>date_time</th>\n",
       "      <th>departure_city</th>\n",
       "      <th>departure_iata_code</th>\n",
       "      <th>arrival_city</th>\n",
       "      <th>destination_iata_code</th>\n",
       "      <th>departure_date_time</th>\n",
       "      <th>arrival_date_time</th>\n",
       "      <th>flight_duration</th>\n",
       "      <th>carrier_name</th>\n",
       "      <th>agent_name</th>\n",
       "      <th>flight_number</th>\n",
       "      <th>price</th>\n",
       "      <th>prev_price_1</th>\n",
       "      <th>prev_price_2</th>\n",
       "      <th>prev_price_3</th>\n",
       "    </tr>\n",
       "  </thead>\n",
       "  <tbody>\n",
       "    <tr>\n",
       "      <td>0</td>\n",
       "      <td>2020-02-03 05:26:15.387024</td>\n",
       "      <td>Kiev</td>\n",
       "      <td>IEV</td>\n",
       "      <td>Vienna</td>\n",
       "      <td>VIE</td>\n",
       "      <td>2020-03-14 13:10:00</td>\n",
       "      <td>2020-03-14 14:10:00</td>\n",
       "      <td>120</td>\n",
       "      <td>Wizz Air</td>\n",
       "      <td>Wizz Air</td>\n",
       "      <td>6127</td>\n",
       "      <td>975.05</td>\n",
       "      <td>0</td>\n",
       "      <td>0</td>\n",
       "      <td>0</td>\n",
       "    </tr>\n",
       "    <tr>\n",
       "      <td>1</td>\n",
       "      <td>2020-02-03 18:15:23.872834</td>\n",
       "      <td>Sofia</td>\n",
       "      <td>SOF</td>\n",
       "      <td>Budapest</td>\n",
       "      <td>BUD</td>\n",
       "      <td>2020-03-05 13:00:00</td>\n",
       "      <td>2020-03-05 13:25:00</td>\n",
       "      <td>85</td>\n",
       "      <td>Wizz Air</td>\n",
       "      <td>Wizz Air</td>\n",
       "      <td>2472</td>\n",
       "      <td>409.49</td>\n",
       "      <td>0</td>\n",
       "      <td>0</td>\n",
       "      <td>0</td>\n",
       "    </tr>\n",
       "    <tr>\n",
       "      <td>2</td>\n",
       "      <td>2020-02-03 11:01:54.768565</td>\n",
       "      <td>Berlin</td>\n",
       "      <td>SXF</td>\n",
       "      <td>Geneva</td>\n",
       "      <td>GVA</td>\n",
       "      <td>2020-03-14 17:00:00</td>\n",
       "      <td>2020-03-14 18:45:00</td>\n",
       "      <td>105</td>\n",
       "      <td>easyJet</td>\n",
       "      <td>easyJet</td>\n",
       "      <td>1596</td>\n",
       "      <td>623.10</td>\n",
       "      <td>0</td>\n",
       "      <td>0</td>\n",
       "      <td>0</td>\n",
       "    </tr>\n",
       "    <tr>\n",
       "      <td>3</td>\n",
       "      <td>2020-02-03 11:01:54.768565</td>\n",
       "      <td>Berlin</td>\n",
       "      <td>SXF</td>\n",
       "      <td>Geneva</td>\n",
       "      <td>GVA</td>\n",
       "      <td>2020-03-14 06:10:00</td>\n",
       "      <td>2020-03-14 08:00:00</td>\n",
       "      <td>110</td>\n",
       "      <td>easyJet</td>\n",
       "      <td>easyJet</td>\n",
       "      <td>1592</td>\n",
       "      <td>623.10</td>\n",
       "      <td>0</td>\n",
       "      <td>0</td>\n",
       "      <td>0</td>\n",
       "    </tr>\n",
       "    <tr>\n",
       "      <td>4</td>\n",
       "      <td>2020-02-03 11:01:54.768565</td>\n",
       "      <td>Berlin</td>\n",
       "      <td>TXL</td>\n",
       "      <td>Zurich</td>\n",
       "      <td>ZRH</td>\n",
       "      <td>2020-03-05 14:10:00</td>\n",
       "      <td>2020-03-05 15:40:00</td>\n",
       "      <td>90</td>\n",
       "      <td>easyJet</td>\n",
       "      <td>easyJet</td>\n",
       "      <td>5867</td>\n",
       "      <td>623.10</td>\n",
       "      <td>0</td>\n",
       "      <td>0</td>\n",
       "      <td>0</td>\n",
       "    </tr>\n",
       "  </tbody>\n",
       "</table>\n",
       "</div>"
      ],
      "text/plain": [
       "                   date_time departure_city departure_iata_code arrival_city  \\\n",
       "0 2020-02-03 05:26:15.387024           Kiev                 IEV       Vienna   \n",
       "1 2020-02-03 18:15:23.872834          Sofia                 SOF     Budapest   \n",
       "2 2020-02-03 11:01:54.768565         Berlin                 SXF       Geneva   \n",
       "3 2020-02-03 11:01:54.768565         Berlin                 SXF       Geneva   \n",
       "4 2020-02-03 11:01:54.768565         Berlin                 TXL       Zurich   \n",
       "\n",
       "  destination_iata_code departure_date_time   arrival_date_time  \\\n",
       "0                   VIE 2020-03-14 13:10:00 2020-03-14 14:10:00   \n",
       "1                   BUD 2020-03-05 13:00:00 2020-03-05 13:25:00   \n",
       "2                   GVA 2020-03-14 17:00:00 2020-03-14 18:45:00   \n",
       "3                   GVA 2020-03-14 06:10:00 2020-03-14 08:00:00   \n",
       "4                   ZRH 2020-03-05 14:10:00 2020-03-05 15:40:00   \n",
       "\n",
       "   flight_duration carrier_name agent_name  flight_number   price  \\\n",
       "0              120     Wizz Air   Wizz Air           6127  975.05   \n",
       "1               85     Wizz Air   Wizz Air           2472  409.49   \n",
       "2              105      easyJet    easyJet           1596  623.10   \n",
       "3              110      easyJet    easyJet           1592  623.10   \n",
       "4               90      easyJet    easyJet           5867  623.10   \n",
       "\n",
       "   prev_price_1  prev_price_2  prev_price_3  \n",
       "0             0             0             0  \n",
       "1             0             0             0  \n",
       "2             0             0             0  \n",
       "3             0             0             0  \n",
       "4             0             0             0  "
      ]
     },
     "execution_count": 106,
     "metadata": {},
     "output_type": "execute_result"
    }
   ],
   "source": [
    "df.head()"
   ]
  },
  {
   "cell_type": "code",
   "execution_count": 107,
   "metadata": {},
   "outputs": [
    {
     "name": "stderr",
     "output_type": "stream",
     "text": [
      "/Users/ioneuk/opt/anaconda3/envs/scrapper/lib/python3.7/site-packages/pandas/core/indexing.py:376: SettingWithCopyWarning: \n",
      "A value is trying to be set on a copy of a slice from a DataFrame.\n",
      "Try using .loc[row_indexer,col_indexer] = value instead\n",
      "\n",
      "See the caveats in the documentation: http://pandas.pydata.org/pandas-docs/stable/user_guide/indexing.html#returning-a-view-versus-a-copy\n",
      "  self.obj[key] = _infer_fill_value(value)\n",
      "/Users/ioneuk/opt/anaconda3/envs/scrapper/lib/python3.7/site-packages/pandas/core/indexing.py:494: SettingWithCopyWarning: \n",
      "A value is trying to be set on a copy of a slice from a DataFrame.\n",
      "Try using .loc[row_indexer,col_indexer] = value instead\n",
      "\n",
      "See the caveats in the documentation: http://pandas.pydata.org/pandas-docs/stable/user_guide/indexing.html#returning-a-view-versus-a-copy\n",
      "  self.obj[item] = s\n"
     ]
    },
    {
     "name": "stdout",
     "output_type": "stream",
     "text": [
      "RMSE on 0th fold: 319.50193340943645\n",
      "MAE on 0th fold: 210.74060756597117\n",
      "R2 on 0th fold: 0.863097117867047\n"
     ]
    },
    {
     "name": "stderr",
     "output_type": "stream",
     "text": [
      "/Users/ioneuk/opt/anaconda3/envs/scrapper/lib/python3.7/site-packages/pandas/core/indexing.py:376: SettingWithCopyWarning: \n",
      "A value is trying to be set on a copy of a slice from a DataFrame.\n",
      "Try using .loc[row_indexer,col_indexer] = value instead\n",
      "\n",
      "See the caveats in the documentation: http://pandas.pydata.org/pandas-docs/stable/user_guide/indexing.html#returning-a-view-versus-a-copy\n",
      "  self.obj[key] = _infer_fill_value(value)\n",
      "/Users/ioneuk/opt/anaconda3/envs/scrapper/lib/python3.7/site-packages/pandas/core/indexing.py:494: SettingWithCopyWarning: \n",
      "A value is trying to be set on a copy of a slice from a DataFrame.\n",
      "Try using .loc[row_indexer,col_indexer] = value instead\n",
      "\n",
      "See the caveats in the documentation: http://pandas.pydata.org/pandas-docs/stable/user_guide/indexing.html#returning-a-view-versus-a-copy\n",
      "  self.obj[item] = s\n"
     ]
    },
    {
     "name": "stdout",
     "output_type": "stream",
     "text": [
      "RMSE on 1th fold: 360.85828456221947\n",
      "MAE on 1th fold: 227.02289468072067\n",
      "R2 on 1th fold: 0.8261361992416689\n"
     ]
    },
    {
     "name": "stderr",
     "output_type": "stream",
     "text": [
      "/Users/ioneuk/opt/anaconda3/envs/scrapper/lib/python3.7/site-packages/pandas/core/indexing.py:376: SettingWithCopyWarning: \n",
      "A value is trying to be set on a copy of a slice from a DataFrame.\n",
      "Try using .loc[row_indexer,col_indexer] = value instead\n",
      "\n",
      "See the caveats in the documentation: http://pandas.pydata.org/pandas-docs/stable/user_guide/indexing.html#returning-a-view-versus-a-copy\n",
      "  self.obj[key] = _infer_fill_value(value)\n",
      "/Users/ioneuk/opt/anaconda3/envs/scrapper/lib/python3.7/site-packages/pandas/core/indexing.py:494: SettingWithCopyWarning: \n",
      "A value is trying to be set on a copy of a slice from a DataFrame.\n",
      "Try using .loc[row_indexer,col_indexer] = value instead\n",
      "\n",
      "See the caveats in the documentation: http://pandas.pydata.org/pandas-docs/stable/user_guide/indexing.html#returning-a-view-versus-a-copy\n",
      "  self.obj[item] = s\n"
     ]
    },
    {
     "name": "stdout",
     "output_type": "stream",
     "text": [
      "RMSE on 2th fold: 607.4535957496063\n",
      "MAE on 2th fold: 305.32899880476225\n",
      "R2 on 2th fold: 0.6442648361628691\n",
      "mean rmse: 429.27127124042073\n",
      "mean mae: 247.6975003504847\n",
      "mean r2: 0.7778327177571951\n"
     ]
    }
   ],
   "source": [
    "cv_rmse = []\n",
    "cv_mae = []\n",
    "cv_r2 = []\n",
    "for idx, split_idx_tuple in enumerate(tscv.split(df)):\n",
    "    x_train_idx, x_test_idx = split_idx_tuple[0], split_idx_tuple[1]\n",
    "    pipeline.fit(df.iloc[x_train_idx], df.loc[x_train_idx, 'price'])\n",
    "    prediction = pipeline.predict(df.iloc[x_test_idx])\n",
    "    current_rmse = rmse(prediction, df.loc[x_test_idx, 'price'])\n",
    "    cv_rmse.append(current_rmse)\n",
    "    current_mae = mean_absolute_error(df.loc[x_test_idx, 'price'], prediction)\n",
    "    cv_mae.append(current_mae)\n",
    "    current_r2 = r2_score(df.loc[x_test_idx, 'price'], prediction)\n",
    "    cv_r2.append(current_r2)\n",
    "    print(\"RMSE on {}th fold: {}\".format(idx, current_rmse))\n",
    "    print(\"MAE on {}th fold: {}\".format(idx, current_mae))\n",
    "    print(\"R2 on {}th fold: {}\".format(idx, current_r2))\n",
    "\n",
    "mean_rmse = sum(cv_rmse) / len(cv_rmse)\n",
    "mean_mae = sum(cv_mae) / len(cv_mae)\n",
    "mean_r2 = sum(cv_r2) / len(cv_r2)\n",
    "print(\"mean rmse: {}\".format(mean_rmse))\n",
    "print(\"mean mae: {}\".format(mean_mae))\n",
    "print(\"mean r2: {}\".format(mean_r2))"
   ]
  },
  {
   "cell_type": "code",
   "execution_count": 108,
   "metadata": {},
   "outputs": [],
   "source": [
    "feature_importances = price_regressor.get_feature_importance()"
   ]
  },
  {
   "cell_type": "code",
   "execution_count": 109,
   "metadata": {},
   "outputs": [
    {
     "data": {
      "text/plain": [
       "array([ 6.68514865,  4.06865802,  3.02439942, 13.84528592,  2.14351346,\n",
       "        1.33941553,  0.98380744,  1.21724188,  1.52715418,  2.98260057,\n",
       "        0.34248768, 54.15777746,  5.09866001,  2.58384977])"
      ]
     },
     "execution_count": 109,
     "metadata": {},
     "output_type": "execute_result"
    }
   ],
   "source": [
    "feature_importances"
   ]
  },
  {
   "cell_type": "code",
   "execution_count": 110,
   "metadata": {},
   "outputs": [
    {
     "data": {
      "text/plain": [
       "14"
      ]
     },
     "execution_count": 110,
     "metadata": {},
     "output_type": "execute_result"
    }
   ],
   "source": [
    "len(feature_importances)"
   ]
  },
  {
   "cell_type": "code",
   "execution_count": 111,
   "metadata": {},
   "outputs": [],
   "source": [
    "feature_names = ['departure_city', 'arrival_city', 'flight_duration','carrier_name','flight_number','departure_hour','departure_minute','arrival_hour','arrival_minute','days_left_to_departure','is_holiday','prev_price_1','prev_price_2','prev_price_3']"
   ]
  },
  {
   "cell_type": "code",
   "execution_count": 112,
   "metadata": {},
   "outputs": [
    {
     "data": {
      "text/plain": [
       "14"
      ]
     },
     "execution_count": 112,
     "metadata": {},
     "output_type": "execute_result"
    }
   ],
   "source": [
    "len(feature_names)"
   ]
  },
  {
   "cell_type": "code",
   "execution_count": 113,
   "metadata": {},
   "outputs": [
    {
     "data": {
      "image/png": "[encoded data removed]",
      "text/plain": [
       "<Figure size 432x288 with 1 Axes>"
      ]
     },
     "metadata": {
      "needs_background": "light"
     },
     "output_type": "display_data"
    }
   ],
   "source": [
    "indices = np.argsort(feature_importances)[::-1]\n",
    "names = [feature_names[i] for i in indices]\n",
    "plt.figure()\n",
    "plt.title(\"Feature Importance\")\n",
    "plt.bar(range(len(feature_importances)), feature_importances[indices])\n",
    "plt.xticks(range(len(feature_importances)), names, rotation=90)\n",
    "\n",
    "plt.show()"
   ]
  },
  {
   "cell_type": "code",
   "execution_count": 114,
   "metadata": {},
   "outputs": [
    {
     "data": {
      "text/plain": [
       "Pipeline(memory=None,\n",
       "         steps=[('date_transformer', DateTransformer()),\n",
       "                ('label_encoder',\n",
       "                 MultiColumnLabelEncoder(columns=['departure_city',\n",
       "                                                  'arrival_city',\n",
       "                                                  'carrier_name'])),\n",
       "                ('column_selector',\n",
       "                 ColumnSelector(columns=['departure_city', 'arrival_city',\n",
       "                                         'flight_duration', 'carrier_name',\n",
       "                                         'flight_number', 'departure_hour',\n",
       "                                         'departure_minute', 'arrival_hour',\n",
       "                                         'arrival_minute',\n",
       "                                         'days_left_to_departure', 'is_holiday',\n",
       "                                         'prev_price_1', 'prev_price_2',\n",
       "                                         'prev_price_3'])),\n",
       "                ('price_regressor',\n",
       "                 <catboost.core.CatBoostRegressor object at 0x1a244e3690>)],\n",
       "         verbose=False)"
      ]
     },
     "execution_count": 114,
     "metadata": {},
     "output_type": "execute_result"
    }
   ],
   "source": [
    "pipeline.fit(df, df.loc[:, 'price'])"
   ]
  },
  {
   "cell_type": "code",
   "execution_count": 115,
   "metadata": {},
   "outputs": [],
   "source": [
    "# grid_search = GridSearchCV(pipeline, param_grid = grid_search_params, cv = tscv, scoring = rmse_scorer)"
   ]
  },
  {
   "cell_type": "code",
   "execution_count": 116,
   "metadata": {},
   "outputs": [],
   "source": [
    "# df[\"flight_number\"] = df[\"flight_number\"].astype(str)\n",
    "# df[\"departure_date_time\"] = df[\"departure_date_time\"].astype(str)\n",
    "# df[\"arrival_date_time\"] = df[\"arrival_date_time\"].astype(str)\n",
    "# df[\"date_time\"] = df[\"date_time\"].astype(str)"
   ]
  },
  {
   "cell_type": "code",
   "execution_count": 117,
   "metadata": {},
   "outputs": [],
   "source": [
    "# grid_search.fit(df, df['price'])"
   ]
  },
  {
   "cell_type": "code",
   "execution_count": 118,
   "metadata": {},
   "outputs": [],
   "source": [
    "# grid_search.best_score_"
   ]
  },
  {
   "cell_type": "code",
   "execution_count": 119,
   "metadata": {},
   "outputs": [],
   "source": [
    "# print(\"\\n========================================================\")\n",
    "# print(\" Results from Random Search \" )\n",
    "# print(\"========================================================\")    \n",
    "# print(\"\\n The best estimator across ALL searched params:\\n\",\n",
    "# grid_search.best_estimator_)\n",
    "# print(\"\\n The best score across ALL searched params:\\n\",grid_search.best_score_)\n",
    "# print(\"\\n The best parameters across ALL searched params:\\n\", grid_search.best_params_)\n",
    "# print(\"\\n ========================================================\")"
   ]
  },
  {
   "cell_type": "code",
   "execution_count": 120,
   "metadata": {},
   "outputs": [
    {
     "data": {
      "text/plain": [
       "['model.pkl']"
      ]
     },
     "execution_count": 120,
     "metadata": {},
     "output_type": "execute_result"
    }
   ],
   "source": [
    "dump(price_regressor, \"model.pkl\")"
   ]
  }
 ],
 "metadata": {
  "kernelspec": {
   "display_name": "scrapper",
   "language": "python",
   "name": "scrapper"
  },
  "language_info": {
   "codemirror_mode": {
    "name": "ipython",
    "version": 3
   },
   "file_extension": ".py",
   "mimetype": "text/x-python",
   "name": "python",
   "nbconvert_exporter": "python",
   "pygments_lexer": "ipython3",
   "version": "3.7.6"
  }
 },
 "nbformat": 4,
 "nbformat_minor": 4
}
